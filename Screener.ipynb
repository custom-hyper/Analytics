{
  "cells": [
    {
      "cell_type": "markdown",
      "metadata": {
        "id": "view-in-github",
        "colab_type": "text"
      },
      "source": [
        "<a href=\"https://colab.research.google.com/github/custom-hyper/Analytics/blob/main/Screener.ipynb\" target=\"_parent\"><img src=\"https://colab.research.google.com/assets/colab-badge.svg\" alt=\"Open In Colab\"/></a>"
      ]
    },
    {
      "cell_type": "markdown",
      "metadata": {
        "id": "eK5OVa6L7LYq"
      },
      "source": [
        "# Setup Infra"
      ]
    },
    {
      "cell_type": "markdown",
      "metadata": {
        "id": "L5j2kOTb7VRD"
      },
      "source": [
        "Change Requests:\n",
        "* Remove zeros of market capitalization\n",
        "* Combine with other tables that don't often update but are useful for research"
      ]
    },
    {
      "cell_type": "code",
      "execution_count": 1,
      "metadata": {
        "colab": {
          "base_uri": "https://localhost:8080/"
        },
        "id": "goXJR7LZDkk0",
        "outputId": "69b0b351-304d-412f-f56e-e32165e8a34d"
      },
      "outputs": [
        {
          "output_type": "stream",
          "name": "stdout",
          "text": [
            "Drive already mounted at /content/drive; to attempt to forcibly remount, call drive.mount(\"/content/drive\", force_remount=True).\n"
          ]
        }
      ],
      "source": [
        "#@title Connect to FNS { display-mode: \"code\" }\n",
        "from google.colab import drive\n",
        "drive.mount('/content/drive')\n"
      ]
    },
    {
      "cell_type": "code",
      "execution_count": null,
      "metadata": {
        "cellView": "code",
        "id": "5m4_0fgAPIA4"
      },
      "outputs": [],
      "source": [
        "#@title pip \n",
        "!pip install pytrends --quiet\n",
        "!pip install pycoingecko --quiet\n",
        "!pip install pandas --quiet\n",
        "!pip install requests --quiet\n",
        "!pip install pipreqs --quiet\n",
        "!pip install configparser --quiet\n",
        "!pip install psycopg2-binary==2.8.6 --quiet\n",
        "\n",
        "!pip install matplotlib --quiet\n",
        "!pip install mplfinance --quiet"
      ]
    },
    {
      "cell_type": "code",
      "execution_count": null,
      "metadata": {
        "id": "Tl2HqqhO1Za7"
      },
      "outputs": [],
      "source": [
        "#@title Ta-lib – Extra steps { display-mode: \"code\" }\n",
        "!wget https://launchpad.net/~mario-mariomedina/+archive/ubuntu/talib/+files/libta-lib0_0.4.0-oneiric1_amd64.deb -qO libta.deb\n",
        "!wget https://launchpad.net/~mario-mariomedina/+archive/ubuntu/talib/+files/ta-lib0-dev_0.4.0-oneiric1_amd64.deb -qO ta.deb\n",
        "!dpkg -i libta.deb ta.deb\n",
        "!pip install ta-lib"
      ]
    },
    {
      "cell_type": "code",
      "execution_count": null,
      "metadata": {
        "id": "UeYCM5BIUK_s"
      },
      "outputs": [],
      "source": [
        "#@title Import Project  Dependencies { display-mode: \"code\" }\n",
        "import requests\n",
        "import mplfinance as fplt\n",
        "from datetime import datetime as dt\n",
        "from datetime import timedelta\n",
        "from datetime import date\n",
        "import talib as ta\n",
        "import time\n",
        "import json\n",
        "import seaborn as sns\n",
        "from google.colab import data_table\n",
        "import plotly.graph_objects as go\n",
        "import pandas as pd\n",
        "import matplotlib.pyplot as plt\n",
        "from pandas.io.json import json_normalize\n",
        "import logging\n",
        "import sys\n",
        "from tqdm.notebook import tqdm\n",
        "import os\n",
        "import sqlite3 as sq\n",
        "import psycopg2 as pg\n",
        "import configparser\n",
        "from sqlalchemy import create_engine\n",
        "from pycoingecko import CoinGeckoAPI\n",
        "import numpy as np\n",
        "#from __future__ import division"
      ]
    },
    {
      "cell_type": "markdown",
      "metadata": {
        "id": "3zdcpLiWsb7W"
      },
      "source": [
        "## Setup SQLite\n"
      ]
    },
    {
      "cell_type": "code",
      "execution_count": null,
      "metadata": {
        "id": "nXE-f6wZsUtP"
      },
      "outputs": [],
      "source": [
        "#@title  Connect { display-mode: \"code\" }\n",
        "path = '/content/drive/MyDrive/workspace/pipelines/db/' #@param {type: 'string'\n",
        "database = \"db.sqlite\" #@param {type: 'string'\n",
        "conn_SQLite = sq.connect(path+database)"
      ]
    },
    {
      "cell_type": "code",
      "execution_count": null,
      "metadata": {
        "id": "g2ysXK5sE2UD"
      },
      "outputs": [],
      "source": [
        "#@title   Show Available Tables { display-mode: \"code\" }\n",
        "cursor = conn_SQLite.cursor()\n",
        "\n",
        "%time\n",
        "cursor.execute(\"SELECT name FROM sqlite_master WHERE type='table';\")\n",
        "#cursor.execute(\"DROP TABLE 'proprietary_Twitter_Partnership_ohlc';\")\n",
        "cursor.fetchall()"
      ]
    },
    {
      "cell_type": "markdown",
      "metadata": {
        "id": "4EI9yPN2D69-"
      },
      "source": [
        "# Extract Data"
      ]
    },
    {
      "cell_type": "markdown",
      "metadata": {
        "id": "BsXbIRVTdvfO"
      },
      "source": [
        "Data source: [CoinGecko API wrapper](https://github.com/man-c/pycoingecko)"
      ]
    },
    {
      "cell_type": "code",
      "execution_count": null,
      "metadata": {
        "id": "4yrTcpk1ncfM"
      },
      "outputs": [],
      "source": [
        "#@title Main – Extract { display-mode: \"code\" }\n",
        "\n",
        "frames = []\n",
        "cg = CoinGeckoAPI()\n",
        "\n",
        "try:\n",
        "\n",
        "  start =  1\n",
        "  ends = 200\n",
        "\n",
        "  for i in tqdm(range(start,ends)):\n",
        "\n",
        "    output = cg.get_coins_markets(vs_currency='usd', page = i)\n",
        "    \n",
        "    data = pd.json_normalize(output,max_level=4)\n",
        "    frames.append(data)\n",
        "    time.sleep(10)\n",
        "\n",
        "except ConnectionError:\n",
        "    time.sleep(60)\n",
        "\n",
        "full_table = pd.concat(frames) #Careful, this line must be outside of the for loop\n",
        "\n",
        "full_table['date'] = date.today()\n"
      ]
    },
    {
      "cell_type": "code",
      "execution_count": null,
      "metadata": {
        "id": "3QOi5f6TEYiN"
      },
      "outputs": [],
      "source": [
        "full_table.info()"
      ]
    },
    {
      "cell_type": "code",
      "source": [
        "proprietary_screener = \"CoinGecko_markets\"\n",
        "\n",
        "full_table.to_sql(proprietary_screener, conn_SQLite, if_exists='replace', index=False) # writes to file\n",
        "conn_SQLite.commit()\n",
        "\n",
        "# Just be sure any changes have been committed or they will be lost.\n",
        "\n",
        "full_table = pd.read_sql('select * from {} GROUP BY id'.format(proprietary_screener), conn_SQLite)\n",
        "\n",
        "full_table.head()\n",
        "full_table.hist(bins = 50,figsize = (30, 20))"
      ],
      "metadata": {
        "id": "9NmqYQMxGGzu"
      },
      "execution_count": null,
      "outputs": []
    },
    {
      "cell_type": "code",
      "execution_count": null,
      "metadata": {
        "id": "OSR8SkkTrj-p"
      },
      "outputs": [],
      "source": [
        "#0 division function\n",
        "def zero_div(x,y):\n",
        "    try:\n",
        "        return x/y\n",
        "    except ZeroDivisionError:\n",
        "        return 0\n",
        "\n",
        "#0 division function\n",
        "def none_div(x):\n",
        "    try:\n",
        "        return round(x, 5)/100\n",
        "    except (TypeError):\n",
        "        pass\n",
        "\n",
        "#@title Main – Wrangling{ display-mode: \"code\" }\n",
        "full_table['price_range_percent_24h'] =  (full_table['high_24h'] - full_table['low_24h'] ) / 0.5*(full_table['high_24h'] + full_table['low_24h'] ) \n",
        "full_table['circulating_cap'] = full_table['current_price'] * full_table['circulating_supply']\n",
        "full_table['total_cap'] = full_table['current_price'] * full_table['total_supply']\n",
        "full_table['max_cap'] = full_table['current_price'] * full_table['max_supply']\n",
        "\n",
        "\n",
        "full_table['price_change_percentage_24h'] = round(full_table['price_change_percentage_24h'], 5)/100\n",
        "\n",
        "#full_table['price_change_percentage_24h'] = full_table['price_change_percentage_24h'].dropna()\n",
        "\n",
        "full_table['ath_change_percentage'] = full_table['ath_change_percentage']/100\n",
        "full_table['market_cap_change_percentage_24h'] = full_table['market_cap_change_percentage_24h']/100\n",
        "full_table['atl_change_percentage'] = full_table['atl_change_percentage']/100\n",
        "full_table['dilution_change_percentage_24h'] = full_table['market_cap_change_percentage_24h'] - full_table['price_change_percentage_24h']\n",
        "full_table['prop_timestamp'] = int( time.time_ns() / 1000 )\n",
        "full_table['prop_timestamp'] = full_table['prop_timestamp'].astype(np.int8)\n",
        "full_table['CoinGecko_link'] = str('https://www.coingecko.com/en/coins/') + full_table['id']\n",
        "full_table['symbol'] = full_table['symbol'].str.upper()\n",
        "full_table['dilution_ratio'] = zero_div(full_table['max_supply'],full_table['circulating_supply'])\n",
        "        \n",
        "#full_table['dilution_ratio'] = full_table['max_supply'] / full_table['circulating_supply']\n",
        "full_table['float_rotation_24h'] = zero_div(full_table['total_volume'],full_table['market_cap'])\n",
        "\n",
        "\n",
        "#Ranking\n",
        "full_table['price_range_percent_24h_rank']  =  full_table['price_range_percent_24h'].rank(pct=True)\n",
        "full_table['total_volume_rank_pct']  =  full_table['total_volume'].rank(pct=True)\n",
        "full_table['dilution_change_percentage_24h_rank_pct'] = full_table['dilution_change_percentage_24h'].rank(pct=True)\n",
        "full_table['circulating_cap_rank_pct'] = full_table['circulating_cap'].rank(pct=True)\n",
        "full_table['total_cap_rank_pct'] = full_table['total_cap'].rank(pct=True)\n",
        "full_table['max_cap_rank_pct'] = full_table['max_cap'].rank(pct=True)\n",
        "full_table['price_change_percentage_24h_rank_pct'] = full_table['price_change_percentage_24h'].rank(pct=True)\n",
        "full_table['market_cap_change_percentage_24h_rank_pct'] = full_table['market_cap_change_percentage_24h'].rank(pct=True)\n",
        "full_table['market_cap_rank_pct'] = full_table['market_cap'].rank(pct=True)\n",
        "#full_table['dilution_ratio_rank_pct'] = full_table['dilution_ratio'].rank(pct=True)\n",
        "#full_table['float_rotation_24h_rank_pct'] = full_table['float_rotation_24h'].rank(pct=True)\n",
        "\n",
        "#Date\n",
        "full_table['date'] = date.today()\n",
        "\n",
        "full_table.replace([np.inf, -np.inf], np.nan, inplace=True)\n",
        "np.set_printoptions(formatter={'float_kind':'{:f}'.format})\n",
        "full_table\n",
        "full_table.hist(bins = 50,figsize = (30, 20))\n"
      ]
    },
    {
      "cell_type": "code",
      "execution_count": null,
      "metadata": {
        "id": "i3NCTMzIvxxm"
      },
      "outputs": [],
      "source": [
        "full_table.info()"
      ]
    },
    {
      "cell_type": "code",
      "execution_count": null,
      "metadata": {
        "id": "HLGt-Q7ll7EA"
      },
      "outputs": [],
      "source": [
        "\n",
        "proprietary_screener = \"proprietary_screener\"\n",
        "\n",
        "full_table.to_sql(proprietary_screener, conn_SQLite, if_exists='replace', index=False) # writes to file\n",
        "conn_SQLite.commit()\n",
        "\n",
        "# Just be sure any changes have been committed or they will be lost.\n",
        "\n",
        "main = pd.read_sql('select * from {} GROUP BY id'.format(proprietary_screener), conn_SQLite)\n",
        "\n",
        "main.head()\n",
        "main.hist(bins = 50,figsize = (30, 20))"
      ]
    },
    {
      "cell_type": "code",
      "execution_count": null,
      "metadata": {
        "id": "Kp2y11Al2EmA"
      },
      "outputs": [],
      "source": [
        "#@title Categories Data { display-mode: \"code\" }\n",
        "\n",
        "cg = CoinGeckoAPI()\n",
        "output = cg.get_coins_categories(include_tickers ='unexpired')\n",
        "data = pd.json_normalize(output,max_level=4)\n",
        "data = pd.DataFrame(output)\n",
        "del data['top_3_coins']\n",
        "\n",
        "CoinGecko_derivatives = \"CoinGecko_categories\"\n",
        "\n",
        "data.to_sql(CoinGecko_derivatives, conn_SQLite, if_exists='replace', index=False) # writes to file\n",
        "conn_SQLite.commit()\n",
        "\n",
        "# Just be sure any changes have been committed or they will be lost.\n",
        "\n",
        "CoinGecko_derivatives = pd.read_sql(\"\"\"\n",
        "select *\n",
        "from {} \n",
        "Order by market_cap_change_24h\t\n",
        "\"\"\".format(CoinGecko_derivatives), conn_SQLite)\n",
        "\n",
        "CoinGecko_derivatives.hist(bins = 50,figsize = (20, 10))\n",
        "\n",
        "\n",
        "\n"
      ]
    },
    {
      "cell_type": "code",
      "execution_count": null,
      "metadata": {
        "id": "Ig2v1_nex71a"
      },
      "outputs": [],
      "source": [
        "#@title Futures Product { display-mode: \"code\" }\n",
        "\n",
        "cg = CoinGeckoAPI()\n",
        "output = cg.get_derivatives(include_tickers ='unexpired')\n",
        "data = pd.json_normalize(output,max_level=4)\n",
        "data = pd.DataFrame(output, columns =(\n",
        "    ['market', 'symbol', 'index_id', 'price', 'price_percentage_change_24h',\n",
        "       'contract_type', 'index', 'basis', 'spread', 'funding_rate',\n",
        "       'open_interest', 'volume_24h', 'last_traded_at', 'last_traded_at_f']))\n",
        "\n",
        "data['last_traded_at_f'] = pd.to_datetime(data['last_traded_at'], unit='s')\n",
        "CoinGecko_derivatives = \"CoinGecko_derivatives\"\n",
        "\n",
        "data.to_sql(CoinGecko_derivatives, conn_SQLite, if_exists='replace', index=False) # writes to file\n",
        "conn_SQLite.commit()\n",
        "\n",
        "# Just be sure any changes have been committed or they will be lost.\n",
        "\n",
        "CoinGecko_derivatives = pd.read_sql(\"\"\"\n",
        "select *\n",
        "from {} \n",
        "\n",
        "\"\"\".format(CoinGecko_derivatives), conn_SQLite)\n",
        "\n",
        "CoinGecko_derivatives.hist(bins = 50,figsize = (20, 10))\n",
        "\n",
        "\n"
      ]
    },
    {
      "cell_type": "code",
      "execution_count": null,
      "metadata": {
        "id": "yWF4i29uzvcA"
      },
      "outputs": [],
      "source": [
        "output = cg.get_derivatives_exchanges()\n",
        "data = pd.json_normalize(output,max_level=4)\n",
        "data = pd.DataFrame(output)\n",
        "\n",
        "#@title Futures Exchanges { display-mode: \"code\" }\n",
        "\n",
        "CoinGecko_derivatives = \"CoinGecko_derivatives_exchange_list\"\n",
        "\n",
        "data.to_sql(CoinGecko_derivatives, conn_SQLite, if_exists='replace', index=False) # writes to file\n",
        "conn_SQLite.commit()\n",
        "\n",
        "# Just be sure any changes have been committed or they will be lost.\n",
        "\n",
        "CoinGecko_derivatives = pd.read_sql(\"\"\"\n",
        "select *\n",
        "from {} \n",
        "\n",
        "\"\"\".format(CoinGecko_derivatives), conn_SQLite)\n",
        "CoinGecko_derivatives.head()\n"
      ]
    },
    {
      "cell_type": "markdown",
      "metadata": {
        "id": "-yIeLNPdqgSn"
      },
      "source": [
        "\n",
        "Reusable scripts\n",
        "\n",
        "Short\n",
        "```\n",
        "WHERE\n",
        "market_cap > 100000000\n",
        "AND\n",
        "dilution_ratio > 6;\n",
        "```\n",
        "Long\n",
        "```\n",
        "WHERE\n",
        "price_change_percentage_24h > '2.0e-01'\n",
        "AND\n",
        "float_rotation_24h >  0.2\n",
        "AN\n",
        "dilution_ratio <  5\n",
        "```"
      ]
    },
    {
      "cell_type": "code",
      "execution_count": null,
      "metadata": {
        "id": "rKKo2AYvTy0p"
      },
      "outputs": [],
      "source": [
        "#@title OHLC { display-mode: \"code\" }\n",
        "\n",
        "\n",
        "proprietary_master_id  = \"proprietary_screener\"\n",
        "\n",
        "base = pd.read_sql(\n",
        "\"\"\"\n",
        "SELECT\n",
        "id,\n",
        "name,\n",
        "market_cap,\n",
        "total_volume,\n",
        "price_change_percentage_24h,\n",
        "float_rotation_24h,\n",
        "dilution_ratio,\n",
        "last_updated\n",
        "FROM {}\n",
        "\n",
        "WHERE\n",
        "price_change_percentage_24h > 0.15\n",
        "AND\n",
        "total_volume > 500000\n",
        "AND\n",
        "float_rotation_24h >  0.1\n",
        "AND\n",
        "dilution_ratio <  5 OR 0 OR NULL\n",
        ";\n",
        "\"\"\".format(proprietary_master_id), conn_SQLite)\n",
        "\n",
        "base"
      ]
    },
    {
      "cell_type": "code",
      "source": [
        "base.hist(bins = 50,figsize = (20,13))"
      ],
      "metadata": {
        "id": "Ww07LiOvjE_O"
      },
      "execution_count": null,
      "outputs": []
    },
    {
      "cell_type": "code",
      "execution_count": null,
      "metadata": {
        "id": "FpPZIHmpgDGX"
      },
      "outputs": [],
      "source": [
        "from talib.abstract import *\n",
        "\n",
        "cg = CoinGeckoAPI()\n",
        "CoinGecko_id = base['id']\n",
        "frames = []\n",
        "\n",
        "try:\n",
        "\n",
        "  start = 0\n",
        "  ends = len(CoinGecko_id)\n",
        "  \n",
        "  for i in tqdm(CoinGecko_id[start:ends]):\n",
        "\n",
        "    a = cg.get_coin_ohlc_by_id(id=i, vs_currency='usd', days = 'max')\n",
        "\n",
        "    df = pd.DataFrame(data=a, columns = ['date','open','high', 'low', 'close'])\n",
        "\n",
        "    df['datetime'] = pd.to_datetime(df['date'], unit='ms')\n",
        "    df['id'] = str(i)\n",
        "    df['sma10'] = SMA(df, timeperiod=10,price='close') # calculate on close prices by default\n",
        "    df['sma20'] = SMA(df, timeperiod=20,price='close') # calculate on close prices by default\n",
        "    df['sma50'] = SMA(df, timeperiod=50,price='close') # calculate on close prices by default\n",
        "    df['sma100'] = SMA(df, timeperiod=100,price='close') # calculate on close prices by default\n",
        "    df['sma200'] = SMA(df, timeperiod=200,price='close') # calculate on close prices by default\n",
        "    df['atr'] = ATR(df, timeperiod=20) # calculate on close prices by default\n",
        "\n",
        "    trace1 = {\n",
        "    'x': df.datetime,\n",
        "    'open': df.open,\n",
        "    'close': df.close,\n",
        "    'high': df.high,\n",
        "    'low': df.low,\n",
        "    'type': 'candlestick',\n",
        "    'name': str(i).upper(),\n",
        "    'showlegend': True\n",
        "    }\n",
        "\n",
        "\n",
        "    trace2 = {\n",
        "        'x': df.datetime,\n",
        "        'y': df.sma10,\n",
        "        'type': 'scatter',\n",
        "        'mode': 'lines',\n",
        "        'line': {\n",
        "            'width': 1,\n",
        "            'color': 'yellow'\n",
        "                },\n",
        "        'name': 'SMA 10'\n",
        "    }\n",
        "\n",
        "    trace3 = {\n",
        "        'x': df.datetime,\n",
        "        'y': df.sma20,\n",
        "        'type': 'scatter',\n",
        "        'mode': 'lines',\n",
        "        'line': {\n",
        "            'width': 1,\n",
        "            'color': 'orange'\n",
        "        },\n",
        "        'name': 'SMA 20'\n",
        "    }\n",
        "    trace4 = {\n",
        "        'x': df.datetime,\n",
        "        'y': df.sma50,\n",
        "        'type': 'scatter',\n",
        "        'mode': 'lines',\n",
        "        'line': {\n",
        "            'width': 1,\n",
        "            'color': 'green'\n",
        "                },\n",
        "        'name': 'SMA 50'\n",
        "    }\n",
        "\n",
        "    trace5 = {\n",
        "        'x': df.datetime,\n",
        "        'y': df.sma100,\n",
        "        'type': 'scatter',\n",
        "        'mode': 'lines',\n",
        "        'line': {\n",
        "            'width': 1,\n",
        "            'color': 'blue'\n",
        "        },\n",
        "        'name': 'SMA 100'\n",
        "    }\n",
        "    trace6 = {\n",
        "        'x': df.datetime,\n",
        "        'y': df.sma200,\n",
        "        'type': 'scatter',\n",
        "        'mode': 'lines',\n",
        "        'line': {\n",
        "            'width': 1,\n",
        "            'color': 'purple'\n",
        "        },\n",
        "        'name': 'SMA 200'\n",
        "    }\n",
        "\n",
        "    data = [trace1, trace2, trace3,trace4,trace5,trace6]\n",
        "\n",
        "    # Config graph layout\n",
        "    layout = go.Layout({\n",
        "        'title': {\n",
        "            'text': str(i).upper().replace(\"-\",\" \") + ' Moving Averages',\n",
        "            'font': {\n",
        "                'size': 15\n",
        "            }\n",
        "        }\n",
        "    })\n",
        "\n",
        "              \n",
        "      #CHARTING\n",
        "    fig = go.Figure(data=data, layout=layout)\n",
        "    fig.show()\n",
        "\n",
        "\n",
        "    CoinGeckoAPI\n",
        "    #time.sleep(60/50)\n",
        "    frames.append(df)\n",
        "    \n",
        "\n",
        "except ConnectionError:\n",
        "  time.sleep(60)\n",
        "\n",
        "single = pd.concat(frames) #Careful, this line must be outside of the for loop\n",
        "single['prop_timestamp'] = int( time.time_ns() / 1000 )\n",
        "\n",
        "single['query_date'] = date.today()\n",
        "fig.write_html(\"Moving Averages.html\")"
      ]
    },
    {
      "cell_type": "code",
      "execution_count": null,
      "metadata": {
        "id": "rQf5dMHUNx_l"
      },
      "outputs": [],
      "source": [
        "single.tail()\n"
      ]
    },
    {
      "cell_type": "code",
      "execution_count": null,
      "metadata": {
        "id": "G7TvzC2vyV-A"
      },
      "outputs": [],
      "source": [
        "proprietary_screener = \"proprietary_screener_ohlc\"\n",
        "\n",
        "single.to_sql(proprietary_screener, conn_SQLite, if_exists='replace', index=False) # writes to file\n",
        "conn_SQLite.commit()\n",
        "\n",
        "# Just be sure any changes have been committed or they will be lost.\n",
        "\n",
        "ohlc = pd.read_sql('select * from {} GROUP BY id'.format(proprietary_screener), conn_SQLite)\n",
        "\n",
        "ohlc"
      ]
    },
    {
      "cell_type": "code",
      "execution_count": null,
      "metadata": {
        "id": "3FPT_L2vQ_Xm"
      },
      "outputs": [],
      "source": [
        "#@title Other Historical { display-mode: \"code\" }\n",
        "from talib.abstract import *\n",
        "import pandas as pd\n",
        "import numpy as np\n",
        "\n",
        "cg = CoinGeckoAPI()\n",
        "CoinGecko_id = base['id']\n",
        "frames = []\n",
        "\n",
        "\n",
        "try:\n",
        "  start = 0\n",
        "  ends = len(CoinGecko_id)\n",
        "  for i in tqdm(CoinGecko_id[start:ends]):\n",
        "\n",
        "    a = cg.get_coin_market_chart_by_id(id=i, vs_currency='usd', days = 'max')\n",
        "\n",
        "    b = a['prices']\n",
        "    df1 = pd.DataFrame(b, columns = ['date','price'])\n",
        "    df1['datetime'] = pd.to_datetime(df1['date'], unit='ms')\n",
        "    df1.set_index(\"date\", inplace = True)\n",
        "\n",
        "    c = a['market_caps']\n",
        "    df2 = pd.DataFrame(c, columns = ['date','market_cap'])\n",
        "    df2.set_index(\"date\", inplace = True)\n",
        "\n",
        "    d = a['total_volumes']\n",
        "    df3 = pd.DataFrame(d, columns = ['date','volume'])   \n",
        "    df3.set_index(\"date\", inplace = True)\n",
        "\n",
        "    result = pd.concat([df1, df2,df3], ignore_index=False,axis=1)\n",
        "\n",
        "    result['id'] = i\n",
        "    result['stdev_30d'] = result['price'].rolling(30).std()\n",
        "    result['volume_30d'] = result['volume'].rolling(30).mean()\n",
        "    result['rel_volume'] = result['volume'] / result['volume_30d'] \n",
        "    result['float_rotation'] = result['volume'] / result['market_cap'] \n",
        "    \n",
        "\n",
        "    frames.append(result)\n",
        "    time.sleep(60/50)\n",
        "except ConnectionError:\n",
        "    time.sleep(60)\n",
        "single = pd.concat(frames) #Careful, this line must be outside of the for loop\n",
        "\n",
        "\n",
        "\n",
        "single.tail()"
      ]
    },
    {
      "cell_type": "code",
      "execution_count": null,
      "metadata": {
        "id": "m6RclEYCV7BR"
      },
      "outputs": [],
      "source": [
        "from numpy.lib.twodim_base import histogram2d\n",
        "\n",
        "proprietary_screener = \"proprietary_screener_hist\"\n",
        "\n",
        "single.to_sql(proprietary_screener, conn_SQLite, if_exists='replace', index=True) # writes to file\n",
        "conn_SQLite.commit()\n",
        "\n",
        "# Just be sure any changes have been committed or they will be lost. WHERE datetime CONTAINS '2021'\n",
        "\n",
        "hist = pd.read_sql(\"\"\"\n",
        "select \n",
        "*\n",
        "from {}  \n",
        "\n",
        "Group by id\n",
        "\n",
        "\n",
        "\"\"\".format(proprietary_screener), conn_SQLite)\n",
        "\n",
        "hist.hist(bins = 50,figsize = (20, 10))"
      ]
    },
    {
      "cell_type": "code",
      "execution_count": null,
      "metadata": {
        "id": "Ht2AZeldgxWr"
      },
      "outputs": [],
      "source": [
        "#df =  base.join(ohlc)\n",
        "\n",
        "df1 = base.merge(hist, on='id', how='left')\n",
        "df2 = df1.merge(ohlc, on='id', how='right')\n",
        "\n",
        "df2 = df2.drop(\n",
        "                ['date_x', 'datetime_x', 'market_cap_y',\n",
        "                'open', 'high','volume','close','datetime_y',\n",
        "                'date_y', 'low', 'market_cap_y',\n",
        "                 'float_rotation', 'low', 'volume_30d',\n",
        "                'prop_timestamp', 'query_date']\n",
        "                 ,axis=1)\n",
        "df2 "
      ]
    },
    {
      "cell_type": "markdown",
      "metadata": {
        "id": "nsKf948icqBL"
      },
      "source": [
        "Get CoinGecko Market Data"
      ]
    },
    {
      "cell_type": "markdown",
      "metadata": {
        "id": "MsdttnfM70rL"
      },
      "source": [
        "# Futures Coverage Indicator"
      ]
    },
    {
      "cell_type": "code",
      "execution_count": null,
      "metadata": {
        "id": "oENkwLwk70am"
      },
      "outputs": [],
      "source": [
        "#Query the derivatives table\n",
        "\n",
        "# Group table By index ID and create a: where if the  contract type includes perpetual, at P Contract type Futures exist, at letter\n",
        "\n"
      ]
    },
    {
      "cell_type": "code",
      "execution_count": null,
      "metadata": {
        "id": "pDGf4uPMqa4a"
      },
      "outputs": [],
      "source": [
        "proprietary_screener.head()"
      ]
    },
    {
      "cell_type": "code",
      "execution_count": null,
      "metadata": {
        "id": "NvsmaHgKtid-"
      },
      "outputs": [],
      "source": [
        "proprietary_screener.info()"
      ]
    },
    {
      "cell_type": "code",
      "execution_count": null,
      "metadata": {
        "id": "a026sI8EPWnM"
      },
      "outputs": [],
      "source": [
        "#@title Gets Currencies { display-mode: \"code\" }\n",
        "output = cg.get_supported_vs_currencies()\n",
        "data = pd.DataFrame(output, columns =['currencies'])\n",
        "CoinGecko_currencies = \"CoinGecko_currencies\"\n",
        "\n",
        "\n",
        "\n",
        "data.to_sql(CoinGecko_currencies, conn_SQLite, if_exists='replace', index=False) # writes to file\n",
        "conn_SQLite.commit()\n",
        "\n",
        "# Just be sure any changes have been committed or they will be lost.\n",
        "\n",
        "CoinGecko_currencies = pd.read_sql('select * from {}'.format(CoinGecko_currencies), conn_SQLite)"
      ]
    },
    {
      "cell_type": "code",
      "execution_count": null,
      "metadata": {
        "id": "ighBOzMrynoV"
      },
      "outputs": [],
      "source": [
        "#@title\n",
        "output = cg.get_derivatives()\n",
        "data = pd.json_normalize(output,max_level=4)\n",
        "data.hist(bins = 50,figsize = (20, 10))"
      ]
    },
    {
      "cell_type": "code",
      "execution_count": null,
      "metadata": {
        "id": "15XzP2DFx8ST"
      },
      "outputs": [],
      "source": [
        "#@title Get Global Data { display-mode: \"code\" }\n",
        "\n",
        "output = cg.get_global()\n",
        "data = pd.json_normalize(output,max_level=4)\n",
        "data = pd.DataFrame(output)\n",
        "\n",
        "CoinGecko_global = \"CoinGecko_global\"\n",
        "\n",
        "data.to_sql(CoinGecko_global, conn_SQLite, if_exists='replace', index=False) # writes to file\n",
        "conn_SQLite.commit()\n",
        "\n",
        "# Just be sure any changes have been committed or they will be lost.\n",
        "\n",
        "CoinGecko_global = pd.read_sql('select * from {}'.format(CoinGecko_global), conn_SQLite)\n",
        "CoinGecko_global.info()"
      ]
    },
    {
      "cell_type": "code",
      "execution_count": null,
      "metadata": {
        "id": "YlXnuDKG2U9J"
      },
      "outputs": [],
      "source": [
        "#@title Get Assess platforms { display-mode: \"code\" }\n",
        "\n",
        "output = cg.get_asset_platforms()\n",
        "\n",
        "data = pd.json_normalize(output,max_level=4)\n",
        "data = pd.DataFrame(output)\n",
        "\n",
        "\n",
        "\n",
        "CoinGecko_asset_platforms = \"CoinGecko_asset_platforms\"\n",
        "\n",
        "data.to_sql(CoinGecko_asset_platforms, conn_SQLite, if_exists='replace', index=False) # writes to file\n",
        "conn_SQLite.commit()\n",
        "\n",
        "# Just be sure any changes have been committed or they will be lost.\n",
        "\n",
        "CoinGecko_asset_platforms = pd.read_sql('select * from {}'.format(CoinGecko_asset_platforms), conn_SQLite)\n",
        "CoinGecko_asset_platforms.info()"
      ]
    },
    {
      "cell_type": "markdown",
      "metadata": {
        "id": "EEmzuxBmDpK-"
      },
      "source": [
        "**bold text**# Create Features"
      ]
    },
    {
      "cell_type": "code",
      "execution_count": null,
      "metadata": {
        "id": "wM2wyAvOyS2F"
      },
      "outputs": [],
      "source": [
        "#@title\n",
        "# Just be sure any changes have been committed or they will be lost.\n",
        "conn_SQLite.close()"
      ]
    },
    {
      "cell_type": "markdown",
      "metadata": {
        "id": "5j72-JI4UHE2"
      },
      "source": [
        "# Backtesting"
      ]
    },
    {
      "cell_type": "markdown",
      "metadata": {
        "id": "io6k38h922bU"
      },
      "source": [
        "# Chartbook\n"
      ]
    }
  ],
  "metadata": {
    "colab": {
      "provenance": [],
      "toc_visible": true,
      "authorship_tag": "ABX9TyOPq7tueXGmz6lW98kvtN3v",
      "include_colab_link": true
    },
    "kernelspec": {
      "display_name": "Python 3",
      "name": "python3"
    },
    "language_info": {
      "name": "python"
    }
  },
  "nbformat": 4,
  "nbformat_minor": 0
}